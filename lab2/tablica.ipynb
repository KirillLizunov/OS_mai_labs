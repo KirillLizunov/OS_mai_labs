{
 "cells": [
  {
   "cell_type": "code",
   "execution_count": null,
   "metadata": {},
   "outputs": [],
   "source": [
    "import pandas as pd\n",
    "\n",
    "# Данные\n",
    "threads = [1, 2, 4, 6, 8, 10, 12]\n",
    "times = [589.972887, 510.273206, 454.705556, 358.938741, 355.195238, 354.353873, 358.185493]  # Время выполнения в мс\n",
    "\n",
    "# Расчёт ускорения и эффективности\n",
    "T1 = times[0]  # Время выполнения на 1 потоке\n",
    "speedup = [T1 / T for T in times]  # Ускорение\n",
    "efficiency = [S / p for S, p in zip(speedup, threads)]  # Эффективность\n",
    "\n",
    "# Создание таблицы\n",
    "data = {\n",
    "    'Количество потоков': threads,\n",
    "    'Время выполнения (мс)': times,\n",
    "    'Ускорение S(p)': speedup,\n",
    "    'Эффективность E(p)': efficiency\n",
    "}\n",
    "\n",
    "# Вывод таблицы\n",
    "df = pd.DataFrame(data)\n",
    "print(df.to_string(index=False))"
   ]
  }
 ],
 "metadata": {
  "kernelspec": {
   "display_name": "Python 3",
   "language": "python",
   "name": "python3"
  },
  "language_info": {
   "codemirror_mode": {
    "name": "ipython",
    "version": 3
   },
   "file_extension": ".py",
   "mimetype": "text/x-python",
   "name": "python",
   "nbconvert_exporter": "python",
   "pygments_lexer": "ipython3",
   "version": "3.9.6"
  }
 },
 "nbformat": 4,
 "nbformat_minor": 2
}
